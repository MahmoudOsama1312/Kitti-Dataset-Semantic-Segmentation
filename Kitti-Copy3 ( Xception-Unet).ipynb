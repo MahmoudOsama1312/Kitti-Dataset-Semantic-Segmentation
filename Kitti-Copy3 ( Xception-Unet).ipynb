{
 "cells": [
  {
   "cell_type": "code",
   "execution_count": 1,
   "metadata": {},
   "outputs": [
    {
     "name": "stderr",
     "output_type": "stream",
     "text": [
      "C:\\Users\\Mahmoud Montaser\\anaconda3\\lib\\site-packages\\numpy\\_distributor_init.py:30: UserWarning: loaded more than 1 DLL from .libs:\n",
      "C:\\Users\\Mahmoud Montaser\\anaconda3\\lib\\site-packages\\numpy\\.libs\\libopenblas.WCDJNK7YVMPZQ2ME2ZZHJJRJ3JIKNDB7.gfortran-win_amd64.dll\n",
      "C:\\Users\\Mahmoud Montaser\\anaconda3\\lib\\site-packages\\numpy\\.libs\\libopenblas.XWYDX2IKJW2NMTWSFYNGFUWKQU3LYTCZ.gfortran-win_amd64.dll\n",
      "  warnings.warn(\"loaded more than 1 DLL from .libs:\"\n"
     ]
    }
   ],
   "source": [
    "import os\n",
    "import numpy as np\n",
    "from keras.preprocessing.image import load_img\n",
    "from tensorflow.keras.preprocessing.image import ImageDataGenerator"
   ]
  },
  {
   "cell_type": "markdown",
   "metadata": {},
   "source": [
    "## Load Your Data : "
   ]
  },
  {
   "cell_type": "code",
   "execution_count": 2,
   "metadata": {},
   "outputs": [],
   "source": [
    "## reading and storing data\n",
    "IMG_WIDTH=256\n",
    "IMG_HEIGHT=256\n",
    "NO_CHANNELS=3\n",
    "\n",
    "training = 'training' \n",
    "train_imgs = training +\"/image_2\"\n",
    "train_labels = training +'/semantic_rgb'         # Path of the Labels Images ( Masks )\n",
    "\n",
    "\n",
    "test = \"testing/image_2\"\n",
    "\n",
    "xtrain_ids = os.listdir(os.path.join(train_imgs))          # to read the images ids\n",
    "ytrain_ids =os.listdir(os.path.join(train_labels))\n",
    "\n",
    "\n",
    "test_ids = os.listdir(os.path.join(test))\n"
   ]
  },
  {
   "cell_type": "code",
   "execution_count": 3,
   "metadata": {},
   "outputs": [
    {
     "name": "stdout",
     "output_type": "stream",
     "text": [
      "Number of train frames: 200\n",
      "Number of train labels: 200\n",
      "Number of test frames: 200\n",
      "Total frames: 600\n"
     ]
    }
   ],
   "source": [
    "print('Number of train frames: ' + str(len(os.listdir(train_imgs))))\n",
    "print('Number of train labels: ' + str(len(os.listdir(train_labels))))\n",
    "\n",
    "print('Number of test frames: ' + str(len(os.listdir(test))))\n",
    "\n",
    "print('Total frames: ' + str(len(os.listdir(train_imgs)) + len(os.listdir(train_labels)) + len(os.listdir(test))))"
   ]
  },
  {
   "cell_type": "markdown",
   "metadata": {},
   "source": [
    "## Adjust Mask :"
   ]
  },
  {
   "cell_type": "code",
   "execution_count": 4,
   "metadata": {},
   "outputs": [],
   "source": [
    "def adjust_mask(mask, flat=False):\n",
    "    \n",
    "    semantic_map = []\n",
    "    for colour in list(cls2rgb.values()):  # values bte3et el classes el fel dictionary\n",
    "        \n",
    "        equality = np.equal(mask, colour)          # 256x256x3 with True or False\n",
    "        class_map = np.all(equality, axis = -1)     # 256x256 If all True, then True, else False\n",
    "        semantic_map.append(class_map) # List of 256x256 arrays, map of True for a given found color at the pixel, and False otherwise.\n",
    "    semantic_map = np.stack(semantic_map, axis=-1)   # 256x256x32 True only at the found color, and all False otherwise.\n",
    "    if flat:\n",
    "        semantic_map = np.reshape(semantic_map, (-1,256*256))\n",
    "\n",
    "    return np.float32(semantic_map)# convert to numbers"
   ]
  },
  {
   "cell_type": "code",
   "execution_count": 5,
   "metadata": {},
   "outputs": [
    {
     "data": {
      "text/html": [
       "<div>\n",
       "<style scoped>\n",
       "    .dataframe tbody tr th:only-of-type {\n",
       "        vertical-align: middle;\n",
       "    }\n",
       "\n",
       "    .dataframe tbody tr th {\n",
       "        vertical-align: top;\n",
       "    }\n",
       "\n",
       "    .dataframe thead th {\n",
       "        text-align: right;\n",
       "    }\n",
       "</style>\n",
       "<table border=\"1\" class=\"dataframe\">\n",
       "  <thead>\n",
       "    <tr style=\"text-align: right;\">\n",
       "      <th></th>\n",
       "      <th>0</th>\n",
       "      <th>1</th>\n",
       "      <th>2</th>\n",
       "    </tr>\n",
       "  </thead>\n",
       "  <tbody>\n",
       "    <tr>\n",
       "      <th>unlabeled</th>\n",
       "      <td>0</td>\n",
       "      <td>0</td>\n",
       "      <td>0</td>\n",
       "    </tr>\n",
       "    <tr>\n",
       "      <th>ego vehicle</th>\n",
       "      <td>0</td>\n",
       "      <td>0</td>\n",
       "      <td>0</td>\n",
       "    </tr>\n",
       "    <tr>\n",
       "      <th>rectification border</th>\n",
       "      <td>0</td>\n",
       "      <td>0</td>\n",
       "      <td>0</td>\n",
       "    </tr>\n",
       "    <tr>\n",
       "      <th>out of roi</th>\n",
       "      <td>0</td>\n",
       "      <td>0</td>\n",
       "      <td>0</td>\n",
       "    </tr>\n",
       "    <tr>\n",
       "      <th>static</th>\n",
       "      <td>0</td>\n",
       "      <td>0</td>\n",
       "      <td>0</td>\n",
       "    </tr>\n",
       "    <tr>\n",
       "      <th>dynamic</th>\n",
       "      <td>111</td>\n",
       "      <td>74</td>\n",
       "      <td>0</td>\n",
       "    </tr>\n",
       "    <tr>\n",
       "      <th>ground</th>\n",
       "      <td>81</td>\n",
       "      <td>0</td>\n",
       "      <td>81</td>\n",
       "    </tr>\n",
       "    <tr>\n",
       "      <th>road</th>\n",
       "      <td>128</td>\n",
       "      <td>64</td>\n",
       "      <td>128</td>\n",
       "    </tr>\n",
       "    <tr>\n",
       "      <th>sidewalk</th>\n",
       "      <td>244</td>\n",
       "      <td>35</td>\n",
       "      <td>232</td>\n",
       "    </tr>\n",
       "    <tr>\n",
       "      <th>parking</th>\n",
       "      <td>250</td>\n",
       "      <td>170</td>\n",
       "      <td>160</td>\n",
       "    </tr>\n",
       "    <tr>\n",
       "      <th>rail track</th>\n",
       "      <td>230</td>\n",
       "      <td>150</td>\n",
       "      <td>140</td>\n",
       "    </tr>\n",
       "    <tr>\n",
       "      <th>building</th>\n",
       "      <td>70</td>\n",
       "      <td>70</td>\n",
       "      <td>70</td>\n",
       "    </tr>\n",
       "    <tr>\n",
       "      <th>wall</th>\n",
       "      <td>102</td>\n",
       "      <td>102</td>\n",
       "      <td>156</td>\n",
       "    </tr>\n",
       "    <tr>\n",
       "      <th>fence</th>\n",
       "      <td>190</td>\n",
       "      <td>153</td>\n",
       "      <td>153</td>\n",
       "    </tr>\n",
       "    <tr>\n",
       "      <th>guard rail</th>\n",
       "      <td>180</td>\n",
       "      <td>165</td>\n",
       "      <td>180</td>\n",
       "    </tr>\n",
       "    <tr>\n",
       "      <th>bridge</th>\n",
       "      <td>150</td>\n",
       "      <td>100</td>\n",
       "      <td>100</td>\n",
       "    </tr>\n",
       "    <tr>\n",
       "      <th>tunnel</th>\n",
       "      <td>150</td>\n",
       "      <td>120</td>\n",
       "      <td>90</td>\n",
       "    </tr>\n",
       "    <tr>\n",
       "      <th>pole</th>\n",
       "      <td>153</td>\n",
       "      <td>153</td>\n",
       "      <td>153</td>\n",
       "    </tr>\n",
       "    <tr>\n",
       "      <th>polegroup</th>\n",
       "      <td>153</td>\n",
       "      <td>153</td>\n",
       "      <td>153</td>\n",
       "    </tr>\n",
       "    <tr>\n",
       "      <th>traffic light</th>\n",
       "      <td>250</td>\n",
       "      <td>170</td>\n",
       "      <td>30</td>\n",
       "    </tr>\n",
       "    <tr>\n",
       "      <th>traffic sign</th>\n",
       "      <td>220</td>\n",
       "      <td>220</td>\n",
       "      <td>0</td>\n",
       "    </tr>\n",
       "    <tr>\n",
       "      <th>vegetation</th>\n",
       "      <td>107</td>\n",
       "      <td>142</td>\n",
       "      <td>35</td>\n",
       "    </tr>\n",
       "    <tr>\n",
       "      <th>terrain</th>\n",
       "      <td>152</td>\n",
       "      <td>251</td>\n",
       "      <td>152</td>\n",
       "    </tr>\n",
       "    <tr>\n",
       "      <th>sky</th>\n",
       "      <td>70</td>\n",
       "      <td>130</td>\n",
       "      <td>180</td>\n",
       "    </tr>\n",
       "    <tr>\n",
       "      <th>person</th>\n",
       "      <td>220</td>\n",
       "      <td>20</td>\n",
       "      <td>60</td>\n",
       "    </tr>\n",
       "    <tr>\n",
       "      <th>rider</th>\n",
       "      <td>255</td>\n",
       "      <td>0</td>\n",
       "      <td>0</td>\n",
       "    </tr>\n",
       "    <tr>\n",
       "      <th>car</th>\n",
       "      <td>0</td>\n",
       "      <td>0</td>\n",
       "      <td>142</td>\n",
       "    </tr>\n",
       "    <tr>\n",
       "      <th>truck</th>\n",
       "      <td>0</td>\n",
       "      <td>0</td>\n",
       "      <td>70</td>\n",
       "    </tr>\n",
       "    <tr>\n",
       "      <th>bus</th>\n",
       "      <td>0</td>\n",
       "      <td>60</td>\n",
       "      <td>100</td>\n",
       "    </tr>\n",
       "    <tr>\n",
       "      <th>caravan</th>\n",
       "      <td>0</td>\n",
       "      <td>0</td>\n",
       "      <td>90</td>\n",
       "    </tr>\n",
       "    <tr>\n",
       "      <th>trailer</th>\n",
       "      <td>0</td>\n",
       "      <td>0</td>\n",
       "      <td>110</td>\n",
       "    </tr>\n",
       "    <tr>\n",
       "      <th>train</th>\n",
       "      <td>0</td>\n",
       "      <td>80</td>\n",
       "      <td>100</td>\n",
       "    </tr>\n",
       "    <tr>\n",
       "      <th>motorcycle</th>\n",
       "      <td>0</td>\n",
       "      <td>0</td>\n",
       "      <td>230</td>\n",
       "    </tr>\n",
       "    <tr>\n",
       "      <th>bicycle</th>\n",
       "      <td>119</td>\n",
       "      <td>11</td>\n",
       "      <td>32</td>\n",
       "    </tr>\n",
       "    <tr>\n",
       "      <th>license plate</th>\n",
       "      <td>0</td>\n",
       "      <td>0</td>\n",
       "      <td>142</td>\n",
       "    </tr>\n",
       "  </tbody>\n",
       "</table>\n",
       "</div>"
      ],
      "text/plain": [
       "                        0    1    2\n",
       "unlabeled               0    0    0\n",
       "ego vehicle             0    0    0\n",
       "rectification border    0    0    0\n",
       "out of roi              0    0    0\n",
       "static                  0    0    0\n",
       "dynamic               111   74    0\n",
       "ground                 81    0   81\n",
       "road                  128   64  128\n",
       "sidewalk              244   35  232\n",
       "parking               250  170  160\n",
       "rail track            230  150  140\n",
       "building               70   70   70\n",
       "wall                  102  102  156\n",
       "fence                 190  153  153\n",
       "guard rail            180  165  180\n",
       "bridge                150  100  100\n",
       "tunnel                150  120   90\n",
       "pole                  153  153  153\n",
       "polegroup             153  153  153\n",
       "traffic light         250  170   30\n",
       "traffic sign          220  220    0\n",
       "vegetation            107  142   35\n",
       "terrain               152  251  152\n",
       "sky                    70  130  180\n",
       "person                220   20   60\n",
       "rider                 255    0    0\n",
       "car                     0    0  142\n",
       "truck                   0    0   70\n",
       "bus                     0   60  100\n",
       "caravan                 0    0   90\n",
       "trailer                 0    0  110\n",
       "train                   0   80  100\n",
       "motorcycle              0    0  230\n",
       "bicycle               119   11   32\n",
       "license plate           0    0  142"
      ]
     },
     "execution_count": 5,
     "metadata": {},
     "output_type": "execute_result"
    }
   ],
   "source": [
    "import pandas as pd\n",
    "classes = pd.read_csv('classes.csv', index_col =0)\n",
    "\n",
    "classes\n",
    "\n"
   ]
  },
  {
   "cell_type": "code",
   "execution_count": 6,
   "metadata": {},
   "outputs": [
    {
     "name": "stdout",
     "output_type": "stream",
     "text": [
      "35\n"
     ]
    }
   ],
   "source": [
    "n_classes= len(classes)\n",
    "print(n_classes)"
   ]
  },
  {
   "cell_type": "code",
   "execution_count": 7,
   "metadata": {},
   "outputs": [],
   "source": [
    "cls2rgb = {cl:list(classes.loc[cl, :]) for cl in classes.index}"
   ]
  },
  {
   "cell_type": "code",
   "execution_count": 8,
   "metadata": {},
   "outputs": [
    {
     "data": {
      "text/plain": [
       "{'unlabeled': [0, 0, 0],\n",
       " 'ego vehicle': [0, 0, 0],\n",
       " 'rectification border': [0, 0, 0],\n",
       " 'out of roi': [0, 0, 0],\n",
       " 'static': [0, 0, 0],\n",
       " 'dynamic': [111, 74, 0],\n",
       " 'ground': [81, 0, 81],\n",
       " 'road': [128, 64, 128],\n",
       " 'sidewalk': [244, 35, 232],\n",
       " 'parking': [250, 170, 160],\n",
       " 'rail track': [230, 150, 140],\n",
       " 'building': [70, 70, 70],\n",
       " 'wall': [102, 102, 156],\n",
       " 'fence': [190, 153, 153],\n",
       " 'guard rail': [180, 165, 180],\n",
       " 'bridge': [150, 100, 100],\n",
       " 'tunnel': [150, 120, 90],\n",
       " 'pole': [153, 153, 153],\n",
       " 'polegroup': [153, 153, 153],\n",
       " 'traffic light': [250, 170, 30],\n",
       " 'traffic sign': [220, 220, 0],\n",
       " 'vegetation': [107, 142, 35],\n",
       " 'terrain': [152, 251, 152],\n",
       " 'sky': [70, 130, 180],\n",
       " 'person': [220, 20, 60],\n",
       " 'rider': [255, 0, 0],\n",
       " 'car': [0, 0, 142],\n",
       " 'truck': [0, 0, 70],\n",
       " 'bus': [0, 60, 100],\n",
       " 'caravan': [0, 0, 90],\n",
       " 'trailer': [0, 0, 110],\n",
       " 'train': [0, 80, 100],\n",
       " 'motorcycle': [0, 0, 230],\n",
       " 'bicycle': [119, 11, 32],\n",
       " 'license plate': [0, 0, 142]}"
      ]
     },
     "execution_count": 8,
     "metadata": {},
     "output_type": "execute_result"
    }
   ],
   "source": [
    "cls2rgb"
   ]
  },
  {
   "cell_type": "markdown",
   "metadata": {},
   "source": [
    "## Now let's visualize and explore some samples:"
   ]
  },
  {
   "cell_type": "code",
   "execution_count": 9,
   "metadata": {},
   "outputs": [
    {
     "data": {
      "text/plain": [
       "<matplotlib.image.AxesImage at 0x137c449deb0>"
      ]
     },
     "execution_count": 9,
     "metadata": {},
     "output_type": "execute_result"
    },
    {
     "data": {
      "image/png": "[encoded data removed]",
      "text/plain": [
       "<Figure size 432x288 with 1 Axes>"
      ]
     },
     "metadata": {
      "needs_background": "light"
     },
     "output_type": "display_data"
    }
   ],
   "source": [
    "from keras.preprocessing import image     \n",
    "import cv2\n",
    "import matplotlib.pyplot as plt\n",
    "\n",
    "\n",
    "img = image.load_img(train_imgs+ \"/000000_10.png\")\n",
    "plt.imshow(img)"
   ]
  },
  {
   "cell_type": "markdown",
   "metadata": {},
   "source": [
    "## Let's have a look on the masks (the ground truth)  ( Labels ) \n"
   ]
  },
  {
   "cell_type": "code",
   "execution_count": 10,
   "metadata": {},
   "outputs": [
    {
     "data": {
      "text/plain": [
       "<matplotlib.image.AxesImage at 0x137c671a0d0>"
      ]
     },
     "execution_count": 10,
     "metadata": {},
     "output_type": "execute_result"
    },
    {
     "data": {
      "image/png": "[encoded data removed]",
      "text/plain": [
       "<Figure size 432x288 with 1 Axes>"
      ]
     },
     "metadata": {
      "needs_background": "light"
     },
     "output_type": "display_data"
    }
   ],
   "source": [
    "mask  = image.load_img(train_labels+ \"/000000_10.png\")\n",
    "plt.imshow(mask)"
   ]
  },
  {
   "cell_type": "code",
   "execution_count": 11,
   "metadata": {},
   "outputs": [
    {
     "data": {
      "text/plain": [
       "(375, 1242, 3)"
      ]
     },
     "execution_count": 11,
     "metadata": {},
     "output_type": "execute_result"
    }
   ],
   "source": [
    "import numpy as np\n",
    "mask = np.array(mask)# Now colors are the same as in the dict, since keras load_img uses RGB order.\n",
    "mask.shape"
   ]
  },
  {
   "cell_type": "code",
   "execution_count": 12,
   "metadata": {},
   "outputs": [],
   "source": [
    "new_mask = adjust_mask(mask)"
   ]
  },
  {
   "cell_type": "code",
   "execution_count": 13,
   "metadata": {},
   "outputs": [
    {
     "data": {
      "text/plain": [
       "(375, 1242, 35)"
      ]
     },
     "execution_count": 13,
     "metadata": {},
     "output_type": "execute_result"
    }
   ],
   "source": [
    "new_mask.shape"
   ]
  },
  {
   "cell_type": "code",
   "execution_count": 14,
   "metadata": {},
   "outputs": [
    {
     "data": {
      "text/plain": [
       "{0: array([0, 0, 0]),\n",
       " 1: array([0, 0, 0]),\n",
       " 2: array([0, 0, 0]),\n",
       " 3: array([0, 0, 0]),\n",
       " 4: array([0, 0, 0]),\n",
       " 5: array([111,  74,   0]),\n",
       " 6: array([81,  0, 81]),\n",
       " 7: array([128,  64, 128]),\n",
       " 8: array([244,  35, 232]),\n",
       " 9: array([250, 170, 160]),\n",
       " 10: array([230, 150, 140]),\n",
       " 11: array([70, 70, 70]),\n",
       " 12: array([102, 102, 156]),\n",
       " 13: array([190, 153, 153]),\n",
       " 14: array([180, 165, 180]),\n",
       " 15: array([150, 100, 100]),\n",
       " 16: array([150, 120,  90]),\n",
       " 17: array([153, 153, 153]),\n",
       " 18: array([153, 153, 153]),\n",
       " 19: array([250, 170,  30]),\n",
       " 20: array([220, 220,   0]),\n",
       " 21: array([107, 142,  35]),\n",
       " 22: array([152, 251, 152]),\n",
       " 23: array([ 70, 130, 180]),\n",
       " 24: array([220,  20,  60]),\n",
       " 25: array([255,   0,   0]),\n",
       " 26: array([  0,   0, 142]),\n",
       " 27: array([ 0,  0, 70]),\n",
       " 28: array([  0,  60, 100]),\n",
       " 29: array([ 0,  0, 90]),\n",
       " 30: array([  0,   0, 110]),\n",
       " 31: array([  0,  80, 100]),\n",
       " 32: array([  0,   0, 230]),\n",
       " 33: array([119,  11,  32]),\n",
       " 34: array([  0,   0, 142])}"
      ]
     },
     "execution_count": 14,
     "metadata": {},
     "output_type": "execute_result"
    }
   ],
   "source": [
    "idx2rgb={idx:np.array(rgb) for idx, (cl, rgb) in enumerate(cls2rgb.items())}\n",
    "idx2rgb"
   ]
  },
  {
   "cell_type": "markdown",
   "metadata": {},
   "source": [
    "## To Convert the mask Back   from 32 channels  to 3 channels only like the original  "
   ]
  },
  {
   "cell_type": "code",
   "execution_count": 15,
   "metadata": {},
   "outputs": [],
   "source": [
    "# Map the idx back to rgb          # Hena  3lsh \n",
    "def map_class_to_rgb(p):\n",
    "  \n",
    "  return idx2rgb[p[0]]\n",
    "\n",
    "rgb_mask = np.apply_along_axis(map_class_to_rgb, -1, np.expand_dims(np.argmax(new_mask, axis=-1), -1))  \n",
    "\n",
    "## -1 means 3adad el masks kolha "
   ]
  },
  {
   "cell_type": "code",
   "execution_count": 16,
   "metadata": {},
   "outputs": [
    {
     "data": {
      "text/plain": [
       "<matplotlib.image.AxesImage at 0x137c6787250>"
      ]
     },
     "execution_count": 16,
     "metadata": {},
     "output_type": "execute_result"
    },
    {
     "data": {
      "image/png": "[encoded data removed]",
      "text/plain": [
       "<Figure size 432x288 with 1 Axes>"
      ]
     },
     "metadata": {
      "needs_background": "light"
     },
     "output_type": "display_data"
    }
   ],
   "source": [
    "plt.imshow(rgb_mask)"
   ]
  },
  {
   "cell_type": "code",
   "execution_count": 17,
   "metadata": {},
   "outputs": [],
   "source": [
    "import numpy as np \n",
    "import os\n",
    "#import skimage.io as io\n",
    "#import skimage.transform as trans\n",
    "import numpy as np\n",
    "from keras.models import *\n",
    "from keras.layers import *\n",
    "from keras.optimizers import *\n",
    "from keras.callbacks import ModelCheckpoint, LearningRateScheduler\n",
    "from keras import backend as keras\n",
    "from keras.applications.vgg16 import VGG16\n",
    "\n",
    "img_size=256\n",
    "from tensorflow.keras import layers\n",
    "from tensorflow import keras\n",
    "import numpy as np\n",
    "from tensorflow.keras.preprocessing.image import load_img\n",
    "from IPython.display import Image, display\n",
    "from tensorflow.keras.preprocessing.image import load_img\n",
    "import PIL\n",
    "from PIL import ImageOps\n",
    "\n",
    "def get_model(img_size, num_classes):\n",
    "    inputs = keras.Input(shape=(256,256,3))\n",
    "\n",
    "    ### [First half of the network: downsampling inputs] ###\n",
    "\n",
    "    # Entry block\n",
    "    x = layers.Conv2D(32, 3, strides=2, padding=\"same\")(inputs)\n",
    "    x = layers.BatchNormalization()(x)\n",
    "    x = layers.Activation(\"relu\")(x)\n",
    "\n",
    "    previous_block_activation = x  # Set aside residual\n",
    "\n",
    "    # Blocks 1, 2, 3 are identical apart from the feature depth.\n",
    "    for filters in [64, 128, 256]:\n",
    "        x = layers.Activation(\"relu\")(x)\n",
    "        x = layers.SeparableConv2D(filters, 3, padding=\"same\")(x)\n",
    "        x = layers.BatchNormalization()(x)\n",
    "\n",
    "        x = layers.Activation(\"relu\")(x)\n",
    "        x = layers.SeparableConv2D(filters, 3, padding=\"same\")(x)\n",
    "        x = layers.BatchNormalization()(x)\n",
    "\n",
    "        x = layers.MaxPooling2D(3, strides=2, padding=\"same\")(x)\n",
    "\n",
    "        # Project residual\n",
    "        residual = layers.Conv2D(filters, 1, strides=2, padding=\"same\")(\n",
    "            previous_block_activation\n",
    "        )\n",
    "        x = layers.add([x, residual])  # Add back residual\n",
    "        previous_block_activation = x  # Set aside next residual\n",
    "\n",
    "    ### [Second half of the network: upsampling inputs] ###\n",
    "\n",
    "    for filters in [256, 128, 64, 32]:\n",
    "        x = layers.Activation(\"relu\")(x)\n",
    "        x = layers.Conv2DTranspose(filters, 3, padding=\"same\")(x)\n",
    "        x = layers.BatchNormalization()(x)\n",
    "\n",
    "        x = layers.Activation(\"relu\")(x)\n",
    "        x = layers.Conv2DTranspose(filters, 3, padding=\"same\")(x)\n",
    "        x = layers.BatchNormalization()(x)\n",
    "\n",
    "        x = layers.UpSampling2D(2)(x)\n",
    "\n",
    "        # Project residual\n",
    "        residual = layers.UpSampling2D(2)(previous_block_activation)\n",
    "        residual = layers.Conv2D(filters, 1, padding=\"same\")(residual)\n",
    "        x = layers.add([x, residual])  # Add back residual\n",
    "        previous_block_activation = x  # Set aside next residual\n",
    "\n",
    "    # Add a per-pixel classification layer\n",
    "    outputs = layers.Conv2D(num_classes, 3, activation=\"softmax\", padding=\"same\")(x)\n",
    "\n",
    "    # Define the model\n",
    "    model = keras.Model(inputs, outputs)\n",
    "    return model\n",
    "\n",
    "\n",
    "\n"
   ]
  },
  {
   "cell_type": "code",
   "execution_count": 18,
   "metadata": {},
   "outputs": [
    {
     "name": "stdout",
     "output_type": "stream",
     "text": [
      "Model: \"model\"\n",
      "__________________________________________________________________________________________________\n",
      " Layer (type)                   Output Shape         Param #     Connected to                     \n",
      "==================================================================================================\n",
      " input_1 (InputLayer)           [(None, 256, 256, 3  0           []                               \n",
      "                                )]                                                                \n",
      "                                                                                                  \n",
      " conv2d (Conv2D)                (None, 128, 128, 32  896         ['input_1[0][0]']                \n",
      "                                )                                                                 \n",
      "                                                                                                  \n",
      " batch_normalization (BatchNorm  (None, 128, 128, 32  128        ['conv2d[0][0]']                 \n",
      " alization)                     )                                                                 \n",
      "                                                                                                  \n",
      " activation (Activation)        (None, 128, 128, 32  0           ['batch_normalization[0][0]']    \n",
      "                                )                                                                 \n",
      "                                                                                                  \n",
      " activation_1 (Activation)      (None, 128, 128, 32  0           ['activation[0][0]']             \n",
      "                                )                                                                 \n",
      "                                                                                                  \n",
      " separable_conv2d (SeparableCon  (None, 128, 128, 64  2400       ['activation_1[0][0]']           \n",
      " v2D)                           )                                                                 \n",
      "                                                                                                  \n",
      " batch_normalization_1 (BatchNo  (None, 128, 128, 64  256        ['separable_conv2d[0][0]']       \n",
      " rmalization)                   )                                                                 \n",
      "                                                                                                  \n",
      " activation_2 (Activation)      (None, 128, 128, 64  0           ['batch_normalization_1[0][0]']  \n",
      "                                )                                                                 \n",
      "                                                                                                  \n",
      " separable_conv2d_1 (SeparableC  (None, 128, 128, 64  4736       ['activation_2[0][0]']           \n",
      " onv2D)                         )                                                                 \n",
      "                                                                                                  \n",
      " batch_normalization_2 (BatchNo  (None, 128, 128, 64  256        ['separable_conv2d_1[0][0]']     \n",
      " rmalization)                   )                                                                 \n",
      "                                                                                                  \n",
      " max_pooling2d (MaxPooling2D)   (None, 64, 64, 64)   0           ['batch_normalization_2[0][0]']  \n",
      "                                                                                                  \n",
      " conv2d_1 (Conv2D)              (None, 64, 64, 64)   2112        ['activation[0][0]']             \n",
      "                                                                                                  \n",
      " add (Add)                      (None, 64, 64, 64)   0           ['max_pooling2d[0][0]',          \n",
      "                                                                  'conv2d_1[0][0]']               \n",
      "                                                                                                  \n",
      " activation_3 (Activation)      (None, 64, 64, 64)   0           ['add[0][0]']                    \n",
      "                                                                                                  \n",
      " separable_conv2d_2 (SeparableC  (None, 64, 64, 128)  8896       ['activation_3[0][0]']           \n",
      " onv2D)                                                                                           \n",
      "                                                                                                  \n",
      " batch_normalization_3 (BatchNo  (None, 64, 64, 128)  512        ['separable_conv2d_2[0][0]']     \n",
      " rmalization)                                                                                     \n",
      "                                                                                                  \n",
      " activation_4 (Activation)      (None, 64, 64, 128)  0           ['batch_normalization_3[0][0]']  \n",
      "                                                                                                  \n",
      " separable_conv2d_3 (SeparableC  (None, 64, 64, 128)  17664      ['activation_4[0][0]']           \n",
      " onv2D)                                                                                           \n",
      "                                                                                                  \n",
      " batch_normalization_4 (BatchNo  (None, 64, 64, 128)  512        ['separable_conv2d_3[0][0]']     \n",
      " rmalization)                                                                                     \n",
      "                                                                                                  \n",
      " max_pooling2d_1 (MaxPooling2D)  (None, 32, 32, 128)  0          ['batch_normalization_4[0][0]']  \n",
      "                                                                                                  \n",
      " conv2d_2 (Conv2D)              (None, 32, 32, 128)  8320        ['add[0][0]']                    \n",
      "                                                                                                  \n",
      " add_1 (Add)                    (None, 32, 32, 128)  0           ['max_pooling2d_1[0][0]',        \n",
      "                                                                  'conv2d_2[0][0]']               \n",
      "                                                                                                  \n",
      " activation_5 (Activation)      (None, 32, 32, 128)  0           ['add_1[0][0]']                  \n",
      "                                                                                                  \n",
      " separable_conv2d_4 (SeparableC  (None, 32, 32, 256)  34176      ['activation_5[0][0]']           \n",
      " onv2D)                                                                                           \n",
      "                                                                                                  \n",
      " batch_normalization_5 (BatchNo  (None, 32, 32, 256)  1024       ['separable_conv2d_4[0][0]']     \n",
      " rmalization)                                                                                     \n",
      "                                                                                                  \n",
      " activation_6 (Activation)      (None, 32, 32, 256)  0           ['batch_normalization_5[0][0]']  \n",
      "                                                                                                  \n",
      " separable_conv2d_5 (SeparableC  (None, 32, 32, 256)  68096      ['activation_6[0][0]']           \n",
      " onv2D)                                                                                           \n",
      "                                                                                                  \n",
      " batch_normalization_6 (BatchNo  (None, 32, 32, 256)  1024       ['separable_conv2d_5[0][0]']     \n",
      " rmalization)                                                                                     \n",
      "                                                                                                  \n",
      " max_pooling2d_2 (MaxPooling2D)  (None, 16, 16, 256)  0          ['batch_normalization_6[0][0]']  \n",
      "                                                                                                  \n",
      " conv2d_3 (Conv2D)              (None, 16, 16, 256)  33024       ['add_1[0][0]']                  \n",
      "                                                                                                  \n",
      " add_2 (Add)                    (None, 16, 16, 256)  0           ['max_pooling2d_2[0][0]',        \n",
      "                                                                  'conv2d_3[0][0]']               \n",
      "                                                                                                  \n",
      " activation_7 (Activation)      (None, 16, 16, 256)  0           ['add_2[0][0]']                  \n",
      "                                                                                                  \n",
      " conv2d_transpose (Conv2DTransp  (None, 16, 16, 256)  590080     ['activation_7[0][0]']           \n",
      " ose)                                                                                             \n",
      "                                                                                                  \n",
      " batch_normalization_7 (BatchNo  (None, 16, 16, 256)  1024       ['conv2d_transpose[0][0]']       \n",
      " rmalization)                                                                                     \n",
      "                                                                                                  \n",
      " activation_8 (Activation)      (None, 16, 16, 256)  0           ['batch_normalization_7[0][0]']  \n",
      "                                                                                                  \n",
      " conv2d_transpose_1 (Conv2DTran  (None, 16, 16, 256)  590080     ['activation_8[0][0]']           \n",
      " spose)                                                                                           \n",
      "                                                                                                  \n",
      " batch_normalization_8 (BatchNo  (None, 16, 16, 256)  1024       ['conv2d_transpose_1[0][0]']     \n",
      " rmalization)                                                                                     \n",
      "                                                                                                  \n",
      " up_sampling2d_1 (UpSampling2D)  (None, 32, 32, 256)  0          ['add_2[0][0]']                  \n",
      "                                                                                                  \n",
      " up_sampling2d (UpSampling2D)   (None, 32, 32, 256)  0           ['batch_normalization_8[0][0]']  \n",
      "                                                                                                  \n",
      " conv2d_4 (Conv2D)              (None, 32, 32, 256)  65792       ['up_sampling2d_1[0][0]']        \n",
      "                                                                                                  \n",
      " add_3 (Add)                    (None, 32, 32, 256)  0           ['up_sampling2d[0][0]',          \n",
      "                                                                  'conv2d_4[0][0]']               \n",
      "                                                                                                  \n",
      " activation_9 (Activation)      (None, 32, 32, 256)  0           ['add_3[0][0]']                  \n",
      "                                                                                                  \n",
      " conv2d_transpose_2 (Conv2DTran  (None, 32, 32, 128)  295040     ['activation_9[0][0]']           \n",
      " spose)                                                                                           \n",
      "                                                                                                  \n",
      " batch_normalization_9 (BatchNo  (None, 32, 32, 128)  512        ['conv2d_transpose_2[0][0]']     \n",
      " rmalization)                                                                                     \n",
      "                                                                                                  \n",
      " activation_10 (Activation)     (None, 32, 32, 128)  0           ['batch_normalization_9[0][0]']  \n",
      "                                                                                                  \n",
      " conv2d_transpose_3 (Conv2DTran  (None, 32, 32, 128)  147584     ['activation_10[0][0]']          \n",
      " spose)                                                                                           \n",
      "                                                                                                  \n",
      " batch_normalization_10 (BatchN  (None, 32, 32, 128)  512        ['conv2d_transpose_3[0][0]']     \n",
      " ormalization)                                                                                    \n",
      "                                                                                                  \n",
      " up_sampling2d_3 (UpSampling2D)  (None, 64, 64, 256)  0          ['add_3[0][0]']                  \n",
      "                                                                                                  \n",
      " up_sampling2d_2 (UpSampling2D)  (None, 64, 64, 128)  0          ['batch_normalization_10[0][0]'] \n",
      "                                                                                                  \n",
      " conv2d_5 (Conv2D)              (None, 64, 64, 128)  32896       ['up_sampling2d_3[0][0]']        \n",
      "                                                                                                  \n",
      " add_4 (Add)                    (None, 64, 64, 128)  0           ['up_sampling2d_2[0][0]',        \n",
      "                                                                  'conv2d_5[0][0]']               \n",
      "                                                                                                  \n",
      " activation_11 (Activation)     (None, 64, 64, 128)  0           ['add_4[0][0]']                  \n",
      "                                                                                                  \n",
      " conv2d_transpose_4 (Conv2DTran  (None, 64, 64, 64)  73792       ['activation_11[0][0]']          \n",
      " spose)                                                                                           \n",
      "                                                                                                  \n",
      " batch_normalization_11 (BatchN  (None, 64, 64, 64)  256         ['conv2d_transpose_4[0][0]']     \n",
      " ormalization)                                                                                    \n",
      "                                                                                                  \n",
      " activation_12 (Activation)     (None, 64, 64, 64)   0           ['batch_normalization_11[0][0]'] \n",
      "                                                                                                  \n",
      " conv2d_transpose_5 (Conv2DTran  (None, 64, 64, 64)  36928       ['activation_12[0][0]']          \n",
      " spose)                                                                                           \n",
      "                                                                                                  \n",
      " batch_normalization_12 (BatchN  (None, 64, 64, 64)  256         ['conv2d_transpose_5[0][0]']     \n",
      " ormalization)                                                                                    \n",
      "                                                                                                  \n",
      " up_sampling2d_5 (UpSampling2D)  (None, 128, 128, 12  0          ['add_4[0][0]']                  \n",
      "                                8)                                                                \n",
      "                                                                                                  \n",
      " up_sampling2d_4 (UpSampling2D)  (None, 128, 128, 64  0          ['batch_normalization_12[0][0]'] \n",
      "                                )                                                                 \n",
      "                                                                                                  \n",
      " conv2d_6 (Conv2D)              (None, 128, 128, 64  8256        ['up_sampling2d_5[0][0]']        \n",
      "                                )                                                                 \n",
      "                                                                                                  \n",
      " add_5 (Add)                    (None, 128, 128, 64  0           ['up_sampling2d_4[0][0]',        \n",
      "                                )                                 'conv2d_6[0][0]']               \n",
      "                                                                                                  \n",
      " activation_13 (Activation)     (None, 128, 128, 64  0           ['add_5[0][0]']                  \n",
      "                                )                                                                 \n",
      "                                                                                                  \n",
      " conv2d_transpose_6 (Conv2DTran  (None, 128, 128, 32  18464      ['activation_13[0][0]']          \n",
      " spose)                         )                                                                 \n",
      "                                                                                                  \n",
      " batch_normalization_13 (BatchN  (None, 128, 128, 32  128        ['conv2d_transpose_6[0][0]']     \n",
      " ormalization)                  )                                                                 \n",
      "                                                                                                  \n",
      " activation_14 (Activation)     (None, 128, 128, 32  0           ['batch_normalization_13[0][0]'] \n",
      "                                )                                                                 \n",
      "                                                                                                  \n",
      " conv2d_transpose_7 (Conv2DTran  (None, 128, 128, 32  9248       ['activation_14[0][0]']          \n",
      " spose)                         )                                                                 \n",
      "                                                                                                  \n",
      " batch_normalization_14 (BatchN  (None, 128, 128, 32  128        ['conv2d_transpose_7[0][0]']     \n",
      " ormalization)                  )                                                                 \n",
      "                                                                                                  \n",
      " up_sampling2d_7 (UpSampling2D)  (None, 256, 256, 64  0          ['add_5[0][0]']                  \n",
      "                                )                                                                 \n",
      "                                                                                                  \n",
      " up_sampling2d_6 (UpSampling2D)  (None, 256, 256, 32  0          ['batch_normalization_14[0][0]'] \n",
      "                                )                                                                 \n",
      "                                                                                                  \n",
      " conv2d_7 (Conv2D)              (None, 256, 256, 32  2080        ['up_sampling2d_7[0][0]']        \n",
      "                                )                                                                 \n",
      "                                                                                                  \n",
      " add_6 (Add)                    (None, 256, 256, 32  0           ['up_sampling2d_6[0][0]',        \n",
      "                                )                                 'conv2d_7[0][0]']               \n",
      "                                                                                                  \n",
      " conv2d_8 (Conv2D)              (None, 256, 256, 35  10115       ['add_6[0][0]']                  \n",
      "                                )                                                                 \n",
      "                                                                                                  \n",
      "==================================================================================================\n",
      "Total params: 2,068,227\n",
      "Trainable params: 2,064,451\n",
      "Non-trainable params: 3,776\n",
      "__________________________________________________________________________________________________\n"
     ]
    }
   ],
   "source": [
    "# Build model\n",
    "model = get_model(img_size, n_classes)\n",
    "iou = tf.keras.metrics.MeanIoU(n_classes, name=None, dtype=None)\n",
    "model.compile(optimizer =tf.keras.optimizers.RMSprop(1e-4) , loss = 'categorical_crossentropy', metrics = [iou,'accuracy'])\n",
    "model.summary()"
   ]
  },
  {
   "cell_type": "markdown",
   "metadata": {},
   "source": [
    "## Loading Train Data :"
   ]
  },
  {
   "cell_type": "code",
   "execution_count": 19,
   "metadata": {},
   "outputs": [],
   "source": [
    "from keras.preprocessing.image import load_img\n",
    "def load_raw_CAMVID(data_type='training', enc='ohe', shape='normal'):\n",
    "    img_path = data_type + '/image_2'+ \"/\"\n",
    "    labels_path = data_type + '/semantic_rgb/'\n",
    "  # without adding target_size=(256,256) in load_img we get Out of mem: 421x960x720x32x4bytes is around 34GB!\n",
    "    x = np.array([np.array(load_img(str(img_path) + file, target_size=(256,256)))*1./255 for file in sorted(os.listdir(img_path))])\n",
    "    \n",
    "    if(enc=='ohe'):\n",
    "    \n",
    "        y = np.array([np.array(load_img(str(labels_path) + file, target_size=(256,256))) for file in sorted(os.listdir(labels_path))])\n",
    "    return x, y\n",
    "\n",
    "## Notee : we did do the adjust Mask Here on ( y ) because we will do it in the Generator function "
   ]
  },
  {
   "cell_type": "code",
   "execution_count": 20,
   "metadata": {},
   "outputs": [
    {
     "name": "stdout",
     "output_type": "stream",
     "text": [
      "Time elapsed:  3.2797718048095703\n"
     ]
    }
   ],
   "source": [
    "import time\n",
    "start = time.time()\n",
    "X_train, Y_train = load_raw_CAMVID(data_type='training')           # load camvid returns x , y  , x for xTrain , y for yTrain\n",
    "\n",
    "\n",
    "end = time.time()\n",
    "print('Time elapsed: ', end-start)"
   ]
  },
  {
   "cell_type": "markdown",
   "metadata": {},
   "source": [
    "## Split the Training Dataa  to Train - Validation"
   ]
  },
  {
   "cell_type": "code",
   "execution_count": 21,
   "metadata": {},
   "outputs": [],
   "source": [
    "from sklearn.model_selection import train_test_split\n",
    "X_train, X_val , Y_train , Y_val =  train_test_split(X_train,\n",
    "                                                 Y_train,\n",
    "                                                test_size=0.1,\n",
    "                                                random_state = 42)"
   ]
  },
  {
   "cell_type": "code",
   "execution_count": 22,
   "metadata": {},
   "outputs": [
    {
     "name": "stdout",
     "output_type": "stream",
     "text": [
      "(180, 256, 256, 3)\n",
      "(180, 256, 256, 3)\n",
      "(20, 256, 256, 3)\n",
      "(20, 256, 256, 3)\n"
     ]
    }
   ],
   "source": [
    "print(X_train.shape)\n",
    "print(Y_train.shape)\n",
    "\n",
    "print(X_val.shape)\n",
    "print(Y_val.shape)"
   ]
  },
  {
   "cell_type": "code",
   "execution_count": null,
   "metadata": {},
   "outputs": [],
   "source": []
  },
  {
   "cell_type": "markdown",
   "metadata": {},
   "source": [
    "## Loading Test Data "
   ]
  },
  {
   "cell_type": "code",
   "execution_count": 23,
   "metadata": {},
   "outputs": [],
   "source": [
    "from keras.preprocessing.image import load_img\n",
    "def load_raw_CAMVID(data_type='testing', enc='ohe', shape='normal'):\n",
    "    img_path = data_type + '/image_2/'\n",
    "  # without adding target_size=(256,256) in load_img we get Out of mem: 421x960x720x32x4bytes is around 34GB!\n",
    "    x = np.array([np.array(load_img(str(img_path) + file, target_size=(256,256)))*1./255 for file in sorted(os.listdir(img_path))])\n",
    "    \n",
    "    return x\n",
    "\n",
    "## Notee : we did do the adjust Mask Here on ( y ) because we will do it in the Generator function "
   ]
  },
  {
   "cell_type": "code",
   "execution_count": 24,
   "metadata": {},
   "outputs": [
    {
     "name": "stdout",
     "output_type": "stream",
     "text": [
      "Time elapsed:  2.1927390098571777\n"
     ]
    }
   ],
   "source": [
    "start = time.time()\n",
    "X_test = load_raw_CAMVID(data_type='testing')  \n",
    "end = time.time()\n",
    "print('Time elapsed: ', end-start)"
   ]
  },
  {
   "cell_type": "markdown",
   "metadata": {},
   "source": [
    "## -----------#############_----------Data Augmantation ------------###### "
   ]
  },
  {
   "cell_type": "markdown",
   "metadata": {},
   "source": [
    "## for training :"
   ]
  },
  {
   "cell_type": "code",
   "execution_count": 25,
   "metadata": {},
   "outputs": [],
   "source": [
    "# Data generator\n",
    "batch_sz = 4\n",
    "#https://keras.io/preprocessing/image/\n",
    "from keras.preprocessing.image import ImageDataGenerator\n",
    "# we create two instances with the same arguments\n",
    "\n",
    "# VI Note: use the same seed for image_datagen and mask_datagen to ensure the transformation for image and mask is the same\n",
    "data_gen_args = dict(rotation_range=0.2,\n",
    "                    width_shift_range=0.05,\n",
    "                    height_shift_range=0.05,\n",
    "                    shear_range=0.05,\n",
    "                    zoom_range=0.05,\n",
    "                    horizontal_flip=True,\n",
    "                    fill_mode='nearest')\n",
    "                    #rescale=1./255)# Data is already scaled when loaded\n",
    "\n",
    "mask_gen_args = dict(rotation_range=0.2,\n",
    "                    width_shift_range=0.05,\n",
    "                    height_shift_range=0.05,\n",
    "                    shear_range=0.05,\n",
    "                    zoom_range=0.05,\n",
    "                    horizontal_flip=True,\n",
    "                    fill_mode='nearest')\n",
    "                    #preprocessing_function=adjust_mask)# This is not possible since the preprocessing_function can only return the same shape as image\n",
    "\n",
    "image_datagen = ImageDataGenerator(**data_gen_args)\n",
    "mask_datagen  = ImageDataGenerator(**mask_gen_args) \n",
    "\n",
    "# Provide the same seed and keyword arguments to the fit and flow methods\n",
    "seed = 1\n",
    "#image_datagen.fit(images, augment=True, seed=seed)\n",
    "#mask_datagen.fit(masks, augment=True, seed=seed)\n",
    "\n",
    "image_generator = image_datagen.flow(\n",
    "    X_train,\n",
    "    seed=seed,\n",
    "    batch_size=batch_sz)\n",
    "\n",
    "mask_generator = mask_datagen.flow( \n",
    "    Y_train,\n",
    "    seed=seed,\n",
    "    batch_size=batch_sz)\n",
    "\n",
    "# combine generators into one which yields image and masks\n",
    "train_generator = zip(image_generator, mask_generator)\n",
    "\n"
   ]
  },
  {
   "cell_type": "code",
   "execution_count": 26,
   "metadata": {},
   "outputs": [],
   "source": [
    "def train_generator_fn():\n",
    "\n",
    "    for (img,mask) in train_generator:\n",
    "        new_mask = adjust_mask(mask)\n",
    "        yield (img,new_mask)  \n",
    "        \n",
    "val_image_generator = image_datagen.flow(\n",
    "    X_val,\n",
    "    seed=seed,\n",
    "    batch_size=batch_sz)\n",
    "\n",
    "val_mask_generator = mask_datagen.flow(\n",
    "    Y_val,\n",
    "    seed=seed,\n",
    "    batch_size=batch_sz)\n",
    "\n",
    "# combine generators into one which yields image and masks\n",
    "val_generator = zip(val_image_generator, val_mask_generator)        \n",
    "        \n",
    "def val_generator_fn():\n",
    "\n",
    "    for (img,mask) in val_generator:\n",
    "        new_mask = adjust_mask(mask)\n",
    "        yield (img,new_mask)  \n"
   ]
  },
  {
   "cell_type": "code",
   "execution_count": 27,
   "metadata": {},
   "outputs": [],
   "source": [
    "\n",
    "batch_sz = 4\n"
   ]
  },
  {
   "cell_type": "code",
   "execution_count": 28,
   "metadata": {},
   "outputs": [],
   "source": [
    "from keras.callbacks import ReduceLROnPlateau ,EarlyStopping ,ModelCheckpoint\n",
    "reduce_lr = ReduceLROnPlateau(\n",
    "    monitor = \"val_accuracy\", \n",
    "    patience = 4,\n",
    "    verbose = 1, \n",
    "    factor = 0.5, \n",
    "    min_lr = 0.000000001\n",
    ")\n",
    "\n",
    "early_stopping = EarlyStopping(\n",
    "    monitor = \"val_accuracy\",\n",
    "    patience = 5,\n",
    "    verbose = 1,\n",
    "    mode = \"max\",\n",
    ")\n",
    "\n",
    "checkpoint = ModelCheckpoint(\n",
    "    monitor = \"val_accuracy\",\n",
    "    filepath = \"Xeption_Unet.hdf5\",\n",
    "    verbose = 1,\n",
    "    save_best_only = True, \n",
    "    save_weights_only = True\n",
    ")\n",
    "callbacks= [reduce_lr]"
   ]
  },
  {
   "cell_type": "code",
   "execution_count": 29,
   "metadata": {},
   "outputs": [
    {
     "name": "stderr",
     "output_type": "stream",
     "text": [
      "<ipython-input-29-f48a17db77e2>:1: UserWarning: `Model.fit_generator` is deprecated and will be removed in a future version. Please use `Model.fit`, which supports generators.\n",
      "  model.fit_generator(train_generator_fn(),\n"
     ]
    },
    {
     "name": "stdout",
     "output_type": "stream",
     "text": [
      "Epoch 1/30\n",
      "45/45 [==============================] - 25s 320ms/step - loss: 2.8696 - mean_io_u: 0.4856 - accuracy: 0.5026 - val_loss: 3.7426 - val_mean_io_u: 0.4852 - val_accuracy: 0.1229 - lr: 1.0000e-04\n",
      "Epoch 2/30\n",
      "45/45 [==============================] - 14s 303ms/step - loss: 2.0013 - mean_io_u: 0.4853 - accuracy: 0.5827 - val_loss: 3.4588 - val_mean_io_u: 0.4853 - val_accuracy: 0.1600 - lr: 1.0000e-04\n",
      "Epoch 3/30\n",
      "45/45 [==============================] - 13s 300ms/step - loss: 1.9475 - mean_io_u: 0.4852 - accuracy: 0.6139 - val_loss: 3.5775 - val_mean_io_u: 0.4849 - val_accuracy: 0.1557 - lr: 1.0000e-04\n",
      "Epoch 4/30\n",
      "45/45 [==============================] - 13s 299ms/step - loss: 2.1994 - mean_io_u: 0.4852 - accuracy: 0.6202 - val_loss: 2.9815 - val_mean_io_u: 0.4853 - val_accuracy: 0.2429 - lr: 1.0000e-04\n",
      "Epoch 5/30\n",
      "45/45 [==============================] - 13s 299ms/step - loss: 2.3879 - mean_io_u: 0.4853 - accuracy: 0.6260 - val_loss: 3.1940 - val_mean_io_u: 0.4851 - val_accuracy: 0.2255 - lr: 1.0000e-04\n",
      "Epoch 6/30\n",
      "45/45 [==============================] - 13s 302ms/step - loss: 3.2047 - mean_io_u: 0.4853 - accuracy: 0.6028 - val_loss: 2.7989 - val_mean_io_u: 0.4852 - val_accuracy: 0.4498 - lr: 1.0000e-04\n",
      "Epoch 7/30\n",
      "45/45 [==============================] - 13s 300ms/step - loss: 4.5282 - mean_io_u: 0.4858 - accuracy: 0.5761 - val_loss: 2.6963 - val_mean_io_u: 0.4854 - val_accuracy: 0.4971 - lr: 1.0000e-04\n",
      "Epoch 8/30\n",
      "45/45 [==============================] - 13s 300ms/step - loss: 7.1135 - mean_io_u: 0.4879 - accuracy: 0.5303 - val_loss: 3.0642 - val_mean_io_u: 0.4852 - val_accuracy: 0.3019 - lr: 1.0000e-04\n",
      "Epoch 9/30\n",
      "45/45 [==============================] - 14s 306ms/step - loss: 12.7520 - mean_io_u: 0.4922 - accuracy: 0.4852 - val_loss: 3.3518 - val_mean_io_u: 0.4852 - val_accuracy: 0.3098 - lr: 1.0000e-04\n",
      "Epoch 10/30\n",
      "45/45 [==============================] - 14s 304ms/step - loss: 25.4276 - mean_io_u: 0.4978 - accuracy: 0.4191 - val_loss: 5.1374 - val_mean_io_u: 0.4851 - val_accuracy: 0.3287 - lr: 1.0000e-04\n",
      "Epoch 11/30\n",
      "45/45 [==============================] - ETA: 0s - loss: 47.8443 - mean_io_u: 0.5093 - accuracy: 0.3431\n",
      "Epoch 00011: ReduceLROnPlateau reducing learning rate to 4.999999873689376e-05.\n",
      "45/45 [==============================] - 14s 307ms/step - loss: 47.8443 - mean_io_u: 0.5093 - accuracy: 0.3431 - val_loss: 12.1878 - val_mean_io_u: 0.4859 - val_accuracy: 0.4641 - lr: 1.0000e-04\n",
      "Epoch 12/30\n",
      "45/45 [==============================] - 13s 301ms/step - loss: 59.2756 - mean_io_u: 0.5117 - accuracy: 0.3878 - val_loss: 22.1520 - val_mean_io_u: 0.4861 - val_accuracy: 0.2487 - lr: 5.0000e-05\n",
      "Epoch 13/30\n",
      "45/45 [==============================] - 14s 304ms/step - loss: 77.3777 - mean_io_u: 0.5053 - accuracy: 0.3325 - val_loss: 30.5431 - val_mean_io_u: 0.4963 - val_accuracy: 0.5036 - lr: 5.0000e-05\n",
      "Epoch 14/30\n",
      "45/45 [==============================] - 14s 304ms/step - loss: 101.6663 - mean_io_u: 0.5105 - accuracy: 0.3132 - val_loss: 68.3466 - val_mean_io_u: 0.4923 - val_accuracy: 0.4429 - lr: 5.0000e-05\n",
      "Epoch 15/30\n",
      "45/45 [==============================] - 14s 305ms/step - loss: 126.4007 - mean_io_u: 0.5120 - accuracy: 0.2903 - val_loss: 108.6301 - val_mean_io_u: 0.5027 - val_accuracy: 0.2732 - lr: 5.0000e-05\n",
      "Epoch 16/30\n",
      "45/45 [==============================] - 14s 305ms/step - loss: 166.7455 - mean_io_u: 0.5110 - accuracy: 0.2540 - val_loss: 134.7545 - val_mean_io_u: 0.4901 - val_accuracy: 0.3148 - lr: 5.0000e-05\n",
      "Epoch 17/30\n",
      "45/45 [==============================] - ETA: 0s - loss: 199.8710 - mean_io_u: 0.5122 - accuracy: 0.2458\n",
      "Epoch 00017: ReduceLROnPlateau reducing learning rate to 2.499999936844688e-05.\n",
      "45/45 [==============================] - 14s 305ms/step - loss: 199.8710 - mean_io_u: 0.5122 - accuracy: 0.2458 - val_loss: 252.1779 - val_mean_io_u: 0.4945 - val_accuracy: 0.1008 - lr: 5.0000e-05\n",
      "Epoch 18/30\n",
      "45/45 [==============================] - 13s 302ms/step - loss: 215.5962 - mean_io_u: 0.5104 - accuracy: 0.2840 - val_loss: 181.3810 - val_mean_io_u: 0.4907 - val_accuracy: 0.3744 - lr: 2.5000e-05\n",
      "Epoch 19/30\n",
      "45/45 [==============================] - 13s 302ms/step - loss: 238.1453 - mean_io_u: 0.5094 - accuracy: 0.2792 - val_loss: 233.0312 - val_mean_io_u: 0.4966 - val_accuracy: 0.2309 - lr: 2.5000e-05\n",
      "Epoch 20/30\n",
      "45/45 [==============================] - 14s 304ms/step - loss: 269.1127 - mean_io_u: 0.5065 - accuracy: 0.2416 - val_loss: 269.2582 - val_mean_io_u: 0.4843 - val_accuracy: 0.1196 - lr: 2.5000e-05\n",
      "Epoch 21/30\n",
      "45/45 [==============================] - ETA: 0s - loss: 298.8051 - mean_io_u: 0.5112 - accuracy: 0.2531\n",
      "Epoch 00021: ReduceLROnPlateau reducing learning rate to 1.249999968422344e-05.\n",
      "45/45 [==============================] - 14s 304ms/step - loss: 298.8051 - mean_io_u: 0.5112 - accuracy: 0.2531 - val_loss: 264.6310 - val_mean_io_u: 0.4931 - val_accuracy: 0.4107 - lr: 2.5000e-05\n",
      "Epoch 22/30\n",
      "45/45 [==============================] - 13s 301ms/step - loss: 302.0132 - mean_io_u: 0.5116 - accuracy: 0.2987 - val_loss: 259.1508 - val_mean_io_u: 0.5587 - val_accuracy: 0.3905 - lr: 1.2500e-05\n",
      "Epoch 23/30\n",
      "45/45 [==============================] - 13s 302ms/step - loss: 317.0740 - mean_io_u: 0.5088 - accuracy: 0.2999 - val_loss: 270.0802 - val_mean_io_u: 0.5490 - val_accuracy: 0.3668 - lr: 1.2500e-05\n",
      "Epoch 24/30\n",
      "45/45 [==============================] - 13s 303ms/step - loss: 325.0823 - mean_io_u: 0.5087 - accuracy: 0.2866 - val_loss: 233.7144 - val_mean_io_u: 0.4908 - val_accuracy: 0.2036 - lr: 1.2500e-05\n",
      "Epoch 25/30\n",
      "45/45 [==============================] - ETA: 0s - loss: 343.5526 - mean_io_u: 0.5073 - accuracy: 0.2822\n",
      "Epoch 00025: ReduceLROnPlateau reducing learning rate to 6.24999984211172e-06.\n",
      "45/45 [==============================] - 14s 303ms/step - loss: 343.5526 - mean_io_u: 0.5073 - accuracy: 0.2822 - val_loss: 280.2719 - val_mean_io_u: 0.5011 - val_accuracy: 0.4398 - lr: 1.2500e-05\n",
      "Epoch 26/30\n",
      "45/45 [==============================] - 14s 304ms/step - loss: 355.4593 - mean_io_u: 0.5021 - accuracy: 0.3490 - val_loss: 285.2444 - val_mean_io_u: 0.4920 - val_accuracy: 0.3243 - lr: 6.2500e-06\n",
      "Epoch 27/30\n",
      "45/45 [==============================] - 14s 304ms/step - loss: 351.7500 - mean_io_u: 0.5043 - accuracy: 0.3496 - val_loss: 289.9522 - val_mean_io_u: 0.4964 - val_accuracy: 0.3441 - lr: 6.2500e-06\n",
      "Epoch 28/30\n",
      "45/45 [==============================] - 14s 303ms/step - loss: 361.4168 - mean_io_u: 0.5031 - accuracy: 0.3174 - val_loss: 294.2361 - val_mean_io_u: 0.4966 - val_accuracy: 0.4299 - lr: 6.2500e-06\n",
      "Epoch 29/30\n",
      "45/45 [==============================] - ETA: 0s - loss: 370.2516 - mean_io_u: 0.5016 - accuracy: 0.3360\n",
      "Epoch 00029: ReduceLROnPlateau reducing learning rate to 3.12499992105586e-06.\n",
      "45/45 [==============================] - 14s 304ms/step - loss: 370.2516 - mean_io_u: 0.5016 - accuracy: 0.3360 - val_loss: 308.8862 - val_mean_io_u: 0.4928 - val_accuracy: 0.2767 - lr: 6.2500e-06\n",
      "Epoch 30/30\n",
      "45/45 [==============================] - 13s 303ms/step - loss: 376.3787 - mean_io_u: 0.4970 - accuracy: 0.3886 - val_loss: 325.0208 - val_mean_io_u: 0.4949 - val_accuracy: 0.4393 - lr: 3.1250e-06\n"
     ]
    },
    {
     "data": {
      "text/plain": [
       "<keras.callbacks.History at 0x137c37c9a60>"
      ]
     },
     "execution_count": 29,
     "metadata": {},
     "output_type": "execute_result"
    }
   ],
   "source": [
    "model.fit_generator(train_generator_fn(),\n",
    "                    validation_data=val_generator_fn(),\n",
    "                    steps_per_epoch=len(X_train)//batch_sz,\n",
    "                    validation_steps=len(X_val)//batch_sz,\n",
    "                    epochs=30,\n",
    "                    callbacks=callbacks)"
   ]
  },
  {
   "cell_type": "code",
   "execution_count": 38,
   "metadata": {},
   "outputs": [],
   "source": [
    "def visualize_seg(img, gt_mask, shape='normal', gt_mode='sparse'):\n",
    "    plt.figure(1)\n",
    "  \n",
    "  # Img\n",
    "    plt.subplot(311)\n",
    "    plt.imshow(img)\n",
    "  \n",
    "  # Predict\n",
    "    pred_mask = model.predict(np.expand_dims(img, 0))\n",
    "    pred_mask = np.argmax(pred_mask, axis=-1)\n",
    "    pred_mask = pred_mask[0]\n",
    "    if shape=='flat':\n",
    "        pred_mask = np.reshape(pred_mask, (256,256)) # Reshape only if you use the flat model. O.w. you dont need\n",
    "  \n",
    "    rgb_mask = np.apply_along_axis(map_class_to_rgb, -1, np.expand_dims(pred_mask, -1))\n",
    "  \n",
    "  # Prediction\n",
    "    plt.subplot(312)\n",
    "    plt.imshow(rgb_mask)\n",
    "              \n",
    "  # GT mask\n",
    "    if gt_mode == 'ohe':\n",
    "        gt_img_ohe = np.argmax(gt_mask, axis=-1)\n",
    "        gt_mask = np.apply_along_axis(map_class_to_rgb, -1, np.expand_dims(gt_img_ohe, -1))              \n",
    "  \n",
    "    plt.subplot(313)\n",
    "    plt.imshow((gt_mask).astype(np.uint8))"
   ]
  },
  {
   "cell_type": "code",
   "execution_count": 39,
   "metadata": {},
   "outputs": [
    {
     "data": {
      "image/png": "[encoded data removed]",
      "text/plain": [
       "<Figure size 432x288 with 3 Axes>"
      ]
     },
     "metadata": {
      "needs_background": "light"
     },
     "output_type": "display_data"
    }
   ],
   "source": [
    "img = next(val_image_generator)[0]\n",
    "gt_img = next(val_mask_generator)[0]\n",
    "visualize_seg(img, gt_img, gt_mode='sparse')"
   ]
  },
  {
   "cell_type": "code",
   "execution_count": null,
   "metadata": {},
   "outputs": [],
   "source": []
  },
  {
   "cell_type": "code",
   "execution_count": null,
   "metadata": {},
   "outputs": [],
   "source": []
  }
 ],
 "metadata": {
  "kernelspec": {
   "display_name": "Python 3",
   "language": "python",
   "name": "python3"
  },
  "language_info": {
   "codemirror_mode": {
    "name": "ipython",
    "version": 3
   },
   "file_extension": ".py",
   "mimetype": "text/x-python",
   "name": "python",
   "nbconvert_exporter": "python",
   "pygments_lexer": "ipython3",
   "version": "3.8.5"
  }
 },
 "nbformat": 4,
 "nbformat_minor": 4
}
